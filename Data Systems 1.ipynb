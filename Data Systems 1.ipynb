{
 "cells": [
  {
   "cell_type": "markdown",
   "id": "22b94b37-78b9-4dde-9e0a-8c92675fe435",
   "metadata": {},
   "source": [
    "In-depth Analysis of Data Systems and Their Python Implementations"
   ]
  },
  {
   "cell_type": "raw",
   "id": "6c737a88-3b13-428b-a3e3-84bdfe2e8e76",
   "metadata": {},
   "source": [
    "Relational Databases: Understand their structure, how they are queried using SQL through Python libraries"
   ]
  },
  {
   "cell_type": "markdown",
   "id": "299202e6-d5a1-482c-859c-ecb1cff28442",
   "metadata": {},
   "source": [
    " Using sqlite3 to Query an SQLite Database"
   ]
  },
  {
   "cell_type": "raw",
   "id": "78160d7c-d537-452f-b4ef-d7e1da3e59a4",
   "metadata": {},
   "source": [
    "Setting up the Database and Table"
   ]
  },
  {
   "cell_type": "code",
   "execution_count": 7,
   "id": "b95aa7a8-7e14-458d-88c1-5cdcd0916c09",
   "metadata": {},
   "outputs": [],
   "source": [
    "import sqlite3\n",
    "\n",
    "# Connect to an SQLite database (it will create the database file if it doesn't exist)\n",
    "conn = sqlite3.connect('example.db')\n",
    "cursor = conn.cursor()\n",
    "\n",
    "# Create a table (if it doesn't already exist)\n",
    "cursor.execute('''\n",
    "CREATE TABLE IF NOT EXISTS users (\n",
    "    id INTEGER PRIMARY KEY,\n",
    "    name TEXT,\n",
    "    age INTEGER\n",
    ")\n",
    "''')\n",
    "\n",
    "# Insert sample data into the table\n",
    "cursor.execute(\"INSERT INTO users (name, age) VALUES ('Alice', 30)\")\n",
    "cursor.execute(\"INSERT INTO users (name, age) VALUES ('Bob', 25)\")\n",
    "cursor.execute(\"INSERT INTO users (name, age) VALUES ('Charlie', 35)\")\n",
    "\n",
    "# Commit the transaction and close the connection\n",
    "conn.commit()\n",
    "\n",
    "# Close the connection\n",
    "conn.close()"
   ]
  },
  {
   "cell_type": "raw",
   "id": "ec7f70e1-0caa-4c7e-9c4c-1245172e530f",
   "metadata": {},
   "source": [
    "Querying the Database\n",
    "\n",
    "Next, we'll query the data using sqlite3."
   ]
  },
  {
   "cell_type": "code",
   "execution_count": 9,
   "id": "70ae0958-78e8-49b3-b6d0-f94f5d0bfd29",
   "metadata": {},
   "outputs": [
    {
     "name": "stdout",
     "output_type": "stream",
     "text": [
      "(1, 'Alice', 30)\n",
      "(2, 'Bob', 25)\n",
      "(3, 'Charlie', 35)\n"
     ]
    }
   ],
   "source": [
    "import sqlite3\n",
    "\n",
    "# Connect to the SQLite database\n",
    "conn = sqlite3.connect('example.db')\n",
    "cursor = conn.cursor()\n",
    "\n",
    "# Query the table to retrieve all users\n",
    "cursor.execute(\"SELECT * FROM users\")\n",
    "\n",
    "# Fetch and print all results\n",
    "rows = cursor.fetchall()\n",
    "for row in rows:\n",
    "    print(row)\n",
    "\n",
    "# Close the connection\n",
    "conn.close()\n"
   ]
  },
  {
   "cell_type": "raw",
   "id": "768bc115-5a08-478a-a0d0-f7b13cb746e1",
   "metadata": {},
   "source": []
  },
  {
   "cell_type": "markdown",
   "id": "d18b94ff-8d14-4d4d-8e5f-397b1c049ec8",
   "metadata": {},
   "source": [
    "Using SQLAlchemy to Interact with a Database SQLAlchemy provides an ORM (Object Relational Mapper) for interacting with databases using Python classes. Let’s rewrite the above example using SQLAlchemy."
   ]
  },
  {
   "cell_type": "code",
   "execution_count": 13,
   "id": "a984c5e4-8510-43e6-8449-398c206055c2",
   "metadata": {},
   "outputs": [
    {
     "name": "stdout",
     "output_type": "stream",
     "text": [
      "Requirement already satisfied: sqlalchemy in c:\\users\\capaciti-jhb\\anaconda3\\lib\\site-packages (2.0.30)\n",
      "Requirement already satisfied: typing-extensions>=4.6.0 in c:\\users\\capaciti-jhb\\anaconda3\\lib\\site-packages (from sqlalchemy) (4.11.0)\n",
      "Requirement already satisfied: greenlet!=0.4.17 in c:\\users\\capaciti-jhb\\anaconda3\\lib\\site-packages (from sqlalchemy) (3.1.1)\n",
      "Note: you may need to restart the kernel to use updated packages.\n"
     ]
    }
   ],
   "source": [
    "pip install sqlalchemy"
   ]
  },
  {
   "cell_type": "raw",
   "id": "fd4a2ae5-8cd8-46eb-9fbc-27aed9fd8e61",
   "metadata": {},
   "source": [
    "Defining the Database Model with SQLAlchemy\n",
    "\n",
    "We will use SQLAlchemy’s ORM to define the structure of the users table."
   ]
  },
  {
   "cell_type": "code",
   "execution_count": 15,
   "id": "a054ba34-3a0c-4006-8b11-68a3174cf1d0",
   "metadata": {},
   "outputs": [
    {
     "name": "stdout",
     "output_type": "stream",
     "text": [
      "2024-11-22 13:42:14,966 INFO sqlalchemy.engine.Engine BEGIN (implicit)\n",
      "2024-11-22 13:42:14,967 INFO sqlalchemy.engine.Engine PRAGMA main.table_info(\"users\")\n",
      "2024-11-22 13:42:14,968 INFO sqlalchemy.engine.Engine [raw sql] ()\n",
      "2024-11-22 13:42:14,971 INFO sqlalchemy.engine.Engine COMMIT\n",
      "2024-11-22 13:42:14,975 INFO sqlalchemy.engine.Engine BEGIN (implicit)\n",
      "2024-11-22 13:42:14,982 INFO sqlalchemy.engine.Engine INSERT INTO users (name, age) VALUES (?, ?) RETURNING id\n",
      "2024-11-22 13:42:14,983 INFO sqlalchemy.engine.Engine [generated in 0.00018s (insertmanyvalues) 1/3 (ordered; batch not supported)] ('Alice', 30)\n",
      "2024-11-22 13:42:14,988 INFO sqlalchemy.engine.Engine INSERT INTO users (name, age) VALUES (?, ?) RETURNING id\n",
      "2024-11-22 13:42:14,989 INFO sqlalchemy.engine.Engine [insertmanyvalues 2/3 (ordered; batch not supported)] ('Bob', 25)\n",
      "2024-11-22 13:42:14,991 INFO sqlalchemy.engine.Engine INSERT INTO users (name, age) VALUES (?, ?) RETURNING id\n",
      "2024-11-22 13:42:15,001 INFO sqlalchemy.engine.Engine [insertmanyvalues 3/3 (ordered; batch not supported)] ('Charlie', 35)\n",
      "2024-11-22 13:42:15,015 INFO sqlalchemy.engine.Engine COMMIT\n"
     ]
    },
    {
     "name": "stderr",
     "output_type": "stream",
     "text": [
      "C:\\Users\\CAPACITI-JHB\\AppData\\Local\\Temp\\ipykernel_25092\\2741194009.py:6: MovedIn20Warning: The ``declarative_base()`` function is now available as sqlalchemy.orm.declarative_base(). (deprecated since: 2.0) (Background on SQLAlchemy 2.0 at: https://sqlalche.me/e/b8d9)\n",
      "  Base = declarative_base()\n"
     ]
    }
   ],
   "source": [
    "from sqlalchemy import create_engine, Column, Integer, String\n",
    "from sqlalchemy.ext.declarative import declarative_base\n",
    "from sqlalchemy.orm import sessionmaker\n",
    "\n",
    "# Define the base class for models\n",
    "Base = declarative_base()\n",
    "\n",
    "# Define a User class that represents the users table\n",
    "class User(Base):\n",
    "    __tablename__ = 'users'\n",
    "    \n",
    "    id = Column(Integer, primary_key=True)\n",
    "    name = Column(String)\n",
    "    age = Column(Integer)\n",
    "\n",
    "# Create an SQLite engine\n",
    "engine = create_engine('sqlite:///example.db', echo=True)\n",
    "\n",
    "# Create all tables in the database (will not recreate if already exists)\n",
    "Base.metadata.create_all(engine)\n",
    "\n",
    "# Create a session\n",
    "Session = sessionmaker(bind=engine)\n",
    "session = Session()\n",
    "\n",
    "# Insert data using the ORM\n",
    "session.add_all([\n",
    "    User(name='Alice', age=30),\n",
    "    User(name='Bob', age=25),\n",
    "    User(name='Charlie', age=35)\n",
    "])\n",
    "\n",
    "# Commit the session\n",
    "session.commit()\n",
    "\n",
    "# Close the session\n",
    "session.close()\n"
   ]
  },
  {
   "cell_type": "raw",
   "id": "e9eaaf23-0321-4640-81f3-93ee9b790d7b",
   "metadata": {},
   "source": [
    "Querying Data using SQLAlchemy\n",
    "\n",
    "We will now query the data using SQLAlchemy’s ORM query methods."
   ]
  },
  {
   "cell_type": "code",
   "execution_count": 17,
   "id": "50d40845-9036-46f9-a57a-1fad25314620",
   "metadata": {},
   "outputs": [
    {
     "name": "stdout",
     "output_type": "stream",
     "text": [
      "2024-11-22 13:43:00,590 INFO sqlalchemy.engine.Engine BEGIN (implicit)\n",
      "2024-11-22 13:43:00,597 INFO sqlalchemy.engine.Engine SELECT users.id AS users_id, users.name AS users_name, users.age AS users_age \n",
      "FROM users\n",
      "2024-11-22 13:43:00,598 INFO sqlalchemy.engine.Engine [generated in 0.00145s] ()\n",
      "ID: 1, Name: Alice, Age: 30\n",
      "ID: 2, Name: Bob, Age: 25\n",
      "ID: 3, Name: Charlie, Age: 35\n",
      "ID: 4, Name: Alice, Age: 30\n",
      "ID: 5, Name: Bob, Age: 25\n",
      "ID: 6, Name: Charlie, Age: 35\n",
      "2024-11-22 13:43:00,603 INFO sqlalchemy.engine.Engine ROLLBACK\n"
     ]
    }
   ],
   "source": [
    "from sqlalchemy.orm import sessionmaker\n",
    "from sqlalchemy import create_engine\n",
    "\n",
    "# Create a session again\n",
    "Session = sessionmaker(bind=engine)\n",
    "session = Session()\n",
    "\n",
    "# Query the database to retrieve all users\n",
    "users = session.query(User).all()\n",
    "\n",
    "# Print the result\n",
    "for user in users:\n",
    "    print(f'ID: {user.id}, Name: {user.name}, Age: {user.age}')\n",
    "\n",
    "# Close the session\n",
    "session.close()\n"
   ]
  },
  {
   "cell_type": "raw",
   "id": "e8ebab13-58ee-434b-8bf4-fc3b01ac3af0",
   "metadata": {},
   "source": []
  },
  {
   "cell_type": "markdown",
   "id": "3a586988-6234-49fc-acd3-c2b80c135654",
   "metadata": {},
   "source": [
    "NoSQL Databases:"
   ]
  },
  {
   "cell_type": "raw",
   "id": "7f68e2aa-7081-47dc-ad39-f83ff69b3795",
   "metadata": {},
   "source": [
    "Key-Value Store: Redis"
   ]
  },
  {
   "cell_type": "code",
   "execution_count": 20,
   "id": "9ecedf31-41ee-4067-90c0-605f7f2656c2",
   "metadata": {},
   "outputs": [
    {
     "name": "stdout",
     "output_type": "stream",
     "text": [
      "Requirement already satisfied: redis in c:\\users\\capaciti-jhb\\anaconda3\\lib\\site-packages (5.2.0)\n",
      "Note: you may need to restart the kernel to use updated packages.\n"
     ]
    }
   ],
   "source": [
    "pip install redis"
   ]
  },
  {
   "cell_type": "code",
   "execution_count": 22,
   "id": "cc1d02eb-7b3b-4bc6-9240-2eb8bfe07d42",
   "metadata": {},
   "outputs": [
    {
     "name": "stdout",
     "output_type": "stream",
     "text": [
      "Name: redis\n",
      "Version: 5.2.0\n",
      "Summary: Python client for Redis database and key-value store\n",
      "Home-page: https://github.com/redis/redis-py\n",
      "Author: Redis Inc.\n",
      "Author-email: oss@redis.com\n",
      "License: MIT\n",
      "Location: C:\\Users\\CAPACITI-JHB\\anaconda3\\Lib\\site-packages\n",
      "Requires: \n",
      "Required-by: \n",
      "Note: you may need to restart the kernel to use updated packages.\n"
     ]
    }
   ],
   "source": [
    "pip show redis"
   ]
  },
  {
   "cell_type": "code",
   "execution_count": 24,
   "id": "12fbcf23-ea16-4770-9b0a-46addc8a0694",
   "metadata": {},
   "outputs": [
    {
     "name": "stdout",
     "output_type": "stream",
     "text": [
      "Name: John Doe\n",
      "Counter: 11\n"
     ]
    }
   ],
   "source": [
    "import redis\n",
    "\n",
    "# Connect to the Redis server\n",
    "client = redis.StrictRedis(host='localhost', port=6379, db=0)\n",
    "\n",
    "# Set a key-value pair\n",
    "client.set('name', 'John Doe')\n",
    "\n",
    "# Retrieve the value by key\n",
    "name = client.get('name')\n",
    "print(f'Name: {name.decode(\"utf-8\")}')  # Decode the bytes to string\n",
    "\n",
    "# Increment a key\n",
    "client.set('counter', 10)\n",
    "client.incr('counter')  # Increment by 1\n",
    "counter = client.get('counter')\n",
    "print(f'Counter: {counter.decode(\"utf-8\")}')\n"
   ]
  },
  {
   "cell_type": "markdown",
   "id": "bd0e2d08-e9b1-4d8b-801a-5abdfc197544",
   "metadata": {},
   "source": [
    "Document Store: MongoDB"
   ]
  },
  {
   "cell_type": "code",
   "execution_count": 28,
   "id": "56e021e5-73ed-428f-bc3d-2eb219a7d054",
   "metadata": {},
   "outputs": [
    {
     "name": "stdout",
     "output_type": "stream",
     "text": [
      "Requirement already satisfied: pymongo in c:\\users\\capaciti-jhb\\anaconda3\\lib\\site-packages (4.10.1)\n",
      "Requirement already satisfied: dnspython<3.0.0,>=1.16.0 in c:\\users\\capaciti-jhb\\anaconda3\\lib\\site-packages (from pymongo) (2.4.2)\n",
      "Note: you may need to restart the kernel to use updated packages.\n"
     ]
    }
   ],
   "source": [
    "pip install pymongo"
   ]
  },
  {
   "cell_type": "code",
   "execution_count": 30,
   "id": "5843fcf0-2cce-44b9-9002-a5be237b91a6",
   "metadata": {},
   "outputs": [
    {
     "name": "stdout",
     "output_type": "stream",
     "text": [
      "User: {'_id': ObjectId('67406f37533a5e014b256f24'), 'name': 'Alice', 'age': 30, 'city': 'New York'}\n"
     ]
    },
    {
     "data": {
      "text/plain": [
       "DeleteResult({'n': 1, 'ok': 1.0}, acknowledged=True)"
      ]
     },
     "execution_count": 30,
     "metadata": {},
     "output_type": "execute_result"
    }
   ],
   "source": [
    "from pymongo import MongoClient\n",
    "\n",
    "# Connect to MongoDB server (default localhost and port 27017)\n",
    "client = MongoClient('mongodb://localhost:27017/')\n",
    "\n",
    "# Select a database\n",
    "db = client['testdb']\n",
    "\n",
    "# Select a collection (similar to a table in relational DB)\n",
    "collection = db['users']\n",
    "\n",
    "# Insert a document into the collection\n",
    "user_data = {'name': 'Alice', 'age': 30, 'city': 'New York'}\n",
    "collection.insert_one(user_data)\n",
    "\n",
    "# Find a document\n",
    "user = collection.find_one({'name': 'Alice'})\n",
    "print(f'User: {user}')\n",
    "\n",
    "# Update a document\n",
    "collection.update_one({'name': 'Alice'}, {'$set': {'age': 31}})\n",
    "\n",
    "# Delete a document\n",
    "collection.delete_one({'name': 'Alice'})\n"
   ]
  },
  {
   "cell_type": "markdown",
   "id": "c43a925f-c679-4062-9d23-0e723db96dd6",
   "metadata": {},
   "source": [
    "Column-Family Store: Apache Cassandra"
   ]
  },
  {
   "cell_type": "code",
   "execution_count": 33,
   "id": "4cf26b07-8623-4019-9d22-8e44a2411e19",
   "metadata": {},
   "outputs": [
    {
     "name": "stdout",
     "output_type": "stream",
     "text": [
      "Note: you may need to restart the kernel to use updated packages.\n"
     ]
    },
    {
     "name": "stderr",
     "output_type": "stream",
     "text": [
      "ERROR: Could not find a version that satisfies the requirement cassandra (from versions: none)\n",
      "ERROR: No matching distribution found for cassandra\n"
     ]
    }
   ],
   "source": [
    "pip install cassandra"
   ]
  },
  {
   "cell_type": "code",
   "execution_count": 34,
   "id": "c05fbbd9-e9fd-479f-b811-d2307ff31ca0",
   "metadata": {},
   "outputs": [
    {
     "name": "stdout",
     "output_type": "stream",
     "text": [
      "Requirement already satisfied: cassandra-driver in c:\\users\\capaciti-jhb\\anaconda3\\lib\\site-packages (3.29.2)\n",
      "Requirement already satisfied: geomet<0.3,>=0.1 in c:\\users\\capaciti-jhb\\anaconda3\\lib\\site-packages (from cassandra-driver) (0.2.1.post1)\n",
      "Requirement already satisfied: click in c:\\users\\capaciti-jhb\\anaconda3\\lib\\site-packages (from geomet<0.3,>=0.1->cassandra-driver) (8.1.7)\n",
      "Requirement already satisfied: six in c:\\users\\capaciti-jhb\\anaconda3\\lib\\site-packages (from geomet<0.3,>=0.1->cassandra-driver) (1.16.0)\n",
      "Requirement already satisfied: colorama in c:\\users\\capaciti-jhb\\anaconda3\\lib\\site-packages (from click->geomet<0.3,>=0.1->cassandra-driver) (0.4.6)\n",
      "Note: you may need to restart the kernel to use updated packages.\n"
     ]
    }
   ],
   "source": [
    "pip install cassandra-driver"
   ]
  },
  {
   "cell_type": "code",
   "execution_count": 35,
   "id": "de072903-7fc7-4f88-9389-d1e07e6ba144",
   "metadata": {},
   "outputs": [
    {
     "name": "stdout",
     "output_type": "stream",
     "text": [
      "Requirement already satisfied: cassandra-connector in c:\\users\\capaciti-jhb\\anaconda3\\lib\\site-packages (0.3.0)\n",
      "Requirement already satisfied: cassandra-driver>=3.29.1 in c:\\users\\capaciti-jhb\\anaconda3\\lib\\site-packages (from cassandra-connector) (3.29.2)\n",
      "Requirement already satisfied: requests>=2.25.1 in c:\\users\\capaciti-jhb\\anaconda3\\lib\\site-packages (from cassandra-connector) (2.32.2)\n",
      "Requirement already satisfied: geomet<0.3,>=0.1 in c:\\users\\capaciti-jhb\\anaconda3\\lib\\site-packages (from cassandra-driver>=3.29.1->cassandra-connector) (0.2.1.post1)\n",
      "Requirement already satisfied: charset-normalizer<4,>=2 in c:\\users\\capaciti-jhb\\anaconda3\\lib\\site-packages (from requests>=2.25.1->cassandra-connector) (2.0.4)\n",
      "Requirement already satisfied: idna<4,>=2.5 in c:\\users\\capaciti-jhb\\anaconda3\\lib\\site-packages (from requests>=2.25.1->cassandra-connector) (3.7)\n",
      "Requirement already satisfied: urllib3<3,>=1.21.1 in c:\\users\\capaciti-jhb\\anaconda3\\lib\\site-packages (from requests>=2.25.1->cassandra-connector) (2.2.2)\n",
      "Requirement already satisfied: certifi>=2017.4.17 in c:\\users\\capaciti-jhb\\anaconda3\\lib\\site-packages (from requests>=2.25.1->cassandra-connector) (2024.8.30)\n",
      "Requirement already satisfied: click in c:\\users\\capaciti-jhb\\anaconda3\\lib\\site-packages (from geomet<0.3,>=0.1->cassandra-driver>=3.29.1->cassandra-connector) (8.1.7)\n",
      "Requirement already satisfied: six in c:\\users\\capaciti-jhb\\anaconda3\\lib\\site-packages (from geomet<0.3,>=0.1->cassandra-driver>=3.29.1->cassandra-connector) (1.16.0)\n",
      "Requirement already satisfied: colorama in c:\\users\\capaciti-jhb\\anaconda3\\lib\\site-packages (from click->geomet<0.3,>=0.1->cassandra-driver>=3.29.1->cassandra-connector) (0.4.6)\n",
      "Note: you may need to restart the kernel to use updated packages.\n"
     ]
    }
   ],
   "source": [
    "pip install cassandra-connector"
   ]
  },
  {
   "cell_type": "code",
   "execution_count": null,
   "id": "6ae075e4-aee7-4f4c-9ef2-a33a220578c1",
   "metadata": {},
   "outputs": [],
   "source": [
    "pip show cassandra"
   ]
  },
  {
   "cell_type": "code",
   "execution_count": null,
   "id": "1d3fb2c3-62d3-4f5b-8c78-e727d00ef542",
   "metadata": {},
   "outputs": [],
   "source": [
    "from cassandra.cluster import Cluster\n",
    "from cassandra import DriverException, NoHostAvailable\n",
    "\n",
    "try:\n",
    "    cluster = Cluster(['127.0.0.1'])\n",
    "    session = cluster.connect()\n",
    "    session.set_keyspace('my_keyspace')\n",
    "except DriverException as e:\n",
    "    print(f\"Driver Exception: {e}\")\n",
    "except NoHostAvailable as e:\n",
    "    print(f\"No Hosts Available: {e}\")\n",
    "except Exception as e:\n",
    "    print(f\"An unexpected error occurred: {e}\")"
   ]
  },
  {
   "cell_type": "markdown",
   "id": "bf6e975c-5654-4d10-b16b-39423d29d74d",
   "metadata": {},
   "source": [
    "Distributed File Systems:"
   ]
  },
  {
   "cell_type": "raw",
   "id": "a24effce-5b4c-476a-ba57-8b76ef713739",
   "metadata": {},
   "source": [
    "Interacting with HDFS using PyArrow"
   ]
  },
  {
   "cell_type": "raw",
   "id": "cf0f0699-fe2b-49c8-b4db-287206e9476f",
   "metadata": {},
   "source": [
    "Using PyArrow for Parquet File Manipulation on HDFS"
   ]
  },
  {
   "cell_type": "code",
   "execution_count": 43,
   "id": "f168826b-83e8-4643-843f-82dabb153b0b",
   "metadata": {},
   "outputs": [
    {
     "name": "stdout",
     "output_type": "stream",
     "text": [
      "Requirement already satisfied: pyarrow in c:\\users\\capaciti-jhb\\anaconda3\\lib\\site-packages (18.0.0)\n",
      "Note: you may need to restart the kernel to use updated packages.\n"
     ]
    }
   ],
   "source": [
    "pip install pyarrow"
   ]
  },
  {
   "cell_type": "code",
   "execution_count": 45,
   "id": "c801d919-1563-4efb-96b3-e7bfbdfdebb3",
   "metadata": {},
   "outputs": [
    {
     "name": "stdout",
     "output_type": "stream",
     "text": [
      "Name: pyarrow\n",
      "Version: 18.0.0\n",
      "Summary: Python library for Apache Arrow\n",
      "Home-page: \n",
      "Author: \n",
      "Author-email: \n",
      "License: Apache Software License\n",
      "Location: C:\\Users\\CAPACITI-JHB\\anaconda3\\Lib\\site-packages\n",
      "Requires: \n",
      "Required-by: dask-expr, streamlit\n",
      "Note: you may need to restart the kernel to use updated packages.\n"
     ]
    }
   ],
   "source": [
    "pip show  pyarrow"
   ]
  },
  {
   "cell_type": "code",
   "execution_count": 47,
   "id": "2aa562fd-4441-4da0-81e4-5dcb077bfa8d",
   "metadata": {},
   "outputs": [
    {
     "name": "stdout",
     "output_type": "stream",
     "text": [
      "Requirement already satisfied: pyarrow[hdfs] in c:\\users\\capaciti-jhb\\anaconda3\\lib\\site-packages (18.0.0)\n",
      "Note: you may need to restart the kernel to use updated packages.\n"
     ]
    },
    {
     "name": "stderr",
     "output_type": "stream",
     "text": [
      "WARNING: pyarrow 18.0.0 does not provide the extra 'hdfs'\n"
     ]
    }
   ],
   "source": [
    "pip install pyarrow[hdfs]"
   ]
  },
  {
   "cell_type": "code",
   "execution_count": 49,
   "id": "c40edb87-110d-40f5-bc26-bac77b88de1a",
   "metadata": {},
   "outputs": [
    {
     "name": "stdout",
     "output_type": "stream",
     "text": [
      "Requirement already satisfied: hdfs in c:\\users\\capaciti-jhb\\anaconda3\\lib\\site-packages (2.7.3)Note: you may need to restart the kernel to use updated packages.\n",
      "\n",
      "Requirement already satisfied: docopt in c:\\users\\capaciti-jhb\\anaconda3\\lib\\site-packages (from hdfs) (0.6.2)\n",
      "Requirement already satisfied: requests>=2.7.0 in c:\\users\\capaciti-jhb\\anaconda3\\lib\\site-packages (from hdfs) (2.32.2)\n",
      "Requirement already satisfied: six>=1.9.0 in c:\\users\\capaciti-jhb\\anaconda3\\lib\\site-packages (from hdfs) (1.16.0)\n",
      "Requirement already satisfied: charset-normalizer<4,>=2 in c:\\users\\capaciti-jhb\\anaconda3\\lib\\site-packages (from requests>=2.7.0->hdfs) (2.0.4)\n",
      "Requirement already satisfied: idna<4,>=2.5 in c:\\users\\capaciti-jhb\\anaconda3\\lib\\site-packages (from requests>=2.7.0->hdfs) (3.7)\n",
      "Requirement already satisfied: urllib3<3,>=1.21.1 in c:\\users\\capaciti-jhb\\anaconda3\\lib\\site-packages (from requests>=2.7.0->hdfs) (2.2.2)\n",
      "Requirement already satisfied: certifi>=2017.4.17 in c:\\users\\capaciti-jhb\\anaconda3\\lib\\site-packages (from requests>=2.7.0->hdfs) (2024.8.30)\n"
     ]
    }
   ],
   "source": [
    "pip install hdfs"
   ]
  },
  {
   "cell_type": "code",
   "execution_count": 51,
   "id": "00d176ae-ebd1-4122-bc5e-600fc868a498",
   "metadata": {},
   "outputs": [
    {
     "name": "stdout",
     "output_type": "stream",
     "text": [
      "18.0.0\n"
     ]
    }
   ],
   "source": [
    "import pyarrow\n",
    "print(pyarrow.__version__)"
   ]
  },
  {
   "cell_type": "code",
   "execution_count": 53,
   "id": "7a4da1c4-e304-4014-b442-b3f7ce50e446",
   "metadata": {},
   "outputs": [
    {
     "name": "stdout",
     "output_type": "stream",
     "text": [
      "An unexpected error occurred: module 'pyarrow' has no attribute 'fs'\n"
     ]
    }
   ],
   "source": [
    "import pyarrow as pa\n",
    "\n",
    "try:\n",
    "    # Connect to HDFS (ensure 'localhost' and '9000' match your Hadoop configuration)\n",
    "    # Using the pyarrow.fs API to connect to Hadoop HDFS\n",
    "    hdfs = pa.fs.HadoopFileSystem('localhost', 9000)\n",
    "    print(\"Successfully connected to HDFS\")\n",
    "\n",
    "    # List files in a directory on HDFS\n",
    "    file_selector = pa.fs.FileSelector('/user/hadoop')  # Path in HDFS (change if necessary)\n",
    "    file_info = hdfs.get_file_info(file_selector)\n",
    "\n",
    "    # Check if there are files in the directory\n",
    "    if file_info:\n",
    "        print(\"Files in /user/hadoop:\")\n",
    "        for info in file_info:\n",
    "            print(info.path)\n",
    "    else:\n",
    "        print(\"No files found in /user/hadoop.\")\n",
    "    \n",
    "except pa.lib.ArrowIOError as e:\n",
    "    print(f\"Arrow IO Error: {e}\")\n",
    "except OSError as e:  # This is a more general error for connection issues\n",
    "    print(f\"OS Error (likely connection issue): {e}\")\n",
    "except Exception as e:\n",
    "    print(f\"An unexpected error occurred: {e}\")\n",
    "\n",
    "\n"
   ]
  },
  {
   "cell_type": "markdown",
   "id": "359947ef-266f-47ce-a96e-e82468a340dc",
   "metadata": {},
   "source": [
    "in-memory systems"
   ]
  },
  {
   "cell_type": "code",
   "execution_count": 1,
   "id": "437a158c-8416-46e5-a7c8-ee1f8b9a87fe",
   "metadata": {},
   "outputs": [
    {
     "name": "stdout",
     "output_type": "stream",
     "text": [
      "Collecting python-memcached\n",
      "  Downloading python_memcached-1.62-py2.py3-none-any.whl.metadata (2.3 kB)\n",
      "Downloading python_memcached-1.62-py2.py3-none-any.whl (15 kB)\n",
      "Installing collected packages: python-memcached\n",
      "Successfully installed python-memcached-1.62\n",
      "Note: you may need to restart the kernel to use updated packages.\n"
     ]
    }
   ],
   "source": [
    "pip install python-memcached"
   ]
  },
  {
   "cell_type": "code",
   "execution_count": 4,
   "id": "28b369aa-d270-493e-92ac-d9d887625aaf",
   "metadata": {},
   "outputs": [
    {
     "name": "stdout",
     "output_type": "stream",
     "text": [
      "Stored 1234 in Memcached under key: user_id\n",
      "Key user_id not found in Memcached\n"
     ]
    }
   ],
   "source": [
    "import memcache\n",
    " \n",
    "# Initialize Memcached client\n",
    "memcached_client = memcache.Client(['127.0.0.1:11211'])\n",
    " \n",
    "# **Storing data in Memcached**: Set a value in Memcached\n",
    "def set_memcached_value(key, value):\n",
    "    memcached_client.set(key, value)\n",
    "    print(f\"Stored {value} in Memcached under key: {key}\")\n",
    " \n",
    "# **Retrieving data from Memcached**: Get a value from Memcached\n",
    "def get_memcached_value(key):\n",
    "    value = memcached_client.get(key)\n",
    "    if value:\n",
    "        print(f\"Retrieved value from Memcached for key {key}: {value}\")\n",
    "    else:\n",
    "        print(f\"Key {key} not found in Memcached\")\n",
    " \n",
    "# Example usage\n",
    "set_memcached_value(\"user_id\", 1234)\n",
    "get_memcached_value(\"user_id\")"
   ]
  },
  {
   "cell_type": "code",
   "execution_count": null,
   "id": "e93cde53-85a6-490f-9887-14fe31085b35",
   "metadata": {},
   "outputs": [],
   "source": []
  },
  {
   "cell_type": "code",
   "execution_count": null,
   "id": "d908244c-d0ca-435d-9b32-9ee9c0cccb42",
   "metadata": {},
   "outputs": [],
   "source": []
  }
 ],
 "metadata": {
  "kernelspec": {
   "display_name": "Python 3 (ipykernel)",
   "language": "python",
   "name": "python3"
  },
  "language_info": {
   "codemirror_mode": {
    "name": "ipython",
    "version": 3
   },
   "file_extension": ".py",
   "mimetype": "text/x-python",
   "name": "python",
   "nbconvert_exporter": "python",
   "pygments_lexer": "ipython3",
   "version": "3.12.4"
  }
 },
 "nbformat": 4,
 "nbformat_minor": 5
}
